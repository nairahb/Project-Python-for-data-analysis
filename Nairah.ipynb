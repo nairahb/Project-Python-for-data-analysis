{
 "cells": [
  {
   "cell_type": "markdown",
   "metadata": {},
   "source": [
    "# HAPT Recognition project"
   ]
  },
  {
   "cell_type": "code",
   "execution_count": 2,
   "metadata": {},
   "outputs": [
    {
     "name": "stdout",
     "output_type": "stream",
     "text": [
      "The loading of the data is done.\n"
     ]
    }
   ],
   "source": [
    "import numpy as np\n",
    "import matplotlib.pyplot as plt\n",
    "import pandas as pd\n",
    "\n",
    "from sklearn.linear_model import SGDClassifier\n",
    "from sklearn.ensemble import RandomForestClassifier\n",
    "from xgboost import XGBClassifier\n",
    "\n",
    "from sklearn.model_selection import RandomizedSearchCV\n",
    "\n",
    "from sklearn.metrics import coverage_error, label_ranking_average_precision_score\n",
    "\n",
    "X_train = np.loadtxt('HAPT Data Set/Train/X_train.txt', delimiter=' ')\n",
    "Y_train = np.loadtxt('HAPT Data Set/Train/y_train.txt')\n",
    "\n",
    "X_test = np.loadtxt('HAPT Data Set/Test/X_test.txt', delimiter=' ')\n",
    "Y_test = np.loadtxt('HAPT Data Set/Test/y_test.txt')\n",
    "\n",
    "print(\"The loading of the data is done.\")"
   ]
  },
  {
   "cell_type": "markdown",
   "metadata": {},
   "source": [
    "## Description of the data"
   ]
  },
  {
   "cell_type": "code",
   "execution_count": 5,
   "metadata": {},
   "outputs": [
    {
     "name": "stdout",
     "output_type": "stream",
     "text": [
      "The shape of the training data is  (7767, 561) (7767,)\n",
      "The shape of the test data is  (3162, 561) (3162,)\n"
     ]
    }
   ],
   "source": [
    "print(\"The shape of the training data is \", X_train.shape, Y_train.shape)\n",
    "print(\"The shape of the test data is \", X_test.shape, Y_test.shape)"
   ]
  },
  {
   "cell_type": "markdown",
   "metadata": {},
   "source": [
    "We have 7767 samples decribed by 561 features in the training dataset while we have 3162 described by 561 features in the test dataset."
   ]
  },
  {
   "cell_type": "code",
   "execution_count": 11,
   "metadata": {},
   "outputs": [
    {
     "name": "stdout",
     "output_type": "stream",
     "text": [
      "<class 'pandas.core.frame.DataFrame'>\n",
      "RangeIndex: 7767 entries, 0 to 7766\n",
      "Columns: 561 entries, 0 to 560\n",
      "dtypes: float64(561)\n",
      "memory usage: 33.2 MB\n"
     ]
    }
   ],
   "source": [
    "X_train_df = pd.DataFrame(X_train) # To transform the numpy array to a pandas DataFrame\n",
    "X_train_df.info()"
   ]
  },
  {
   "cell_type": "markdown",
   "metadata": {},
   "source": [
    "We see that all the features are continuous. No need to perform pre-processing specific to categorical variables."
   ]
  },
  {
   "cell_type": "code",
   "execution_count": 6,
   "metadata": {},
   "outputs": [
    {
     "name": "stdout",
     "output_type": "stream",
     "text": [
      "The labels are [ 1.  2.  3.  4.  5.  6.  7.  8.  9. 10. 11. 12.] totaling a number of labels 12\n"
     ]
    }
   ],
   "source": [
    "print(\"The labels are {} totaling a number of labels {}\".format(np.unique(Y_train), len(np.unique(Y_train))))"
   ]
  },
  {
   "cell_type": "markdown",
   "metadata": {},
   "source": [
    "## Visualisation"
   ]
  },
  {
   "cell_type": "markdown",
   "metadata": {},
   "source": [
    "Let us look at the labels' distribution, to see if a weighting is necessary."
   ]
  },
  {
   "cell_type": "code",
   "execution_count": 12,
   "metadata": {},
   "outputs": [
    {
     "data": {
      "text/plain": [
       "(array([2299.,  987., 1293., 1423., 1413.,   47.,   23.,   75.,   60.,\n",
       "         147.]),\n",
       " array([ 1. ,  2.1,  3.2,  4.3,  5.4,  6.5,  7.6,  8.7,  9.8, 10.9, 12. ]),\n",
       " <a list of 10 Patch objects>)"
      ]
     },
     "execution_count": 12,
     "metadata": {},
     "output_type": "execute_result"
    },
    {
     "data": {
      "image/png": "[encoded data removed]",
      "text/plain": [
       "<Figure size 432x288 with 1 Axes>"
      ]
     },
     "metadata": {
      "needs_background": "light"
     },
     "output_type": "display_data"
    }
   ],
   "source": [
    "plt.hist(Y_train)"
   ]
  },
  {
   "cell_type": "code",
   "execution_count": 13,
   "metadata": {
    "scrolled": true
   },
   "outputs": [
    {
     "data": {
      "text/plain": [
       "(array([967., 420., 508., 556., 545.,  23.,  10.,  32.,  25.,  76.]),\n",
       " array([ 1. ,  2.1,  3.2,  4.3,  5.4,  6.5,  7.6,  8.7,  9.8, 10.9, 12. ]),\n",
       " <a list of 10 Patch objects>)"
      ]
     },
     "execution_count": 13,
     "metadata": {},
     "output_type": "execute_result"
    },
    {
     "data": {
      "image/png": "[encoded data removed]",
      "text/plain": [
       "<Figure size 432x288 with 1 Axes>"
      ]
     },
     "metadata": {
      "needs_background": "light"
     },
     "output_type": "display_data"
    }
   ],
   "source": [
    "plt.hist(Y_test)"
   ]
  },
  {
   "cell_type": "markdown",
   "metadata": {},
   "source": [
    "We notice that the test labels have the same distribution than the training labels which is a nice property for a dataset as the fitted model won't have to deal with a distribution drift."
   ]
  },
  {
   "cell_type": "markdown",
   "metadata": {},
   "source": [
    "## Machine Learning models"
   ]
  },
  {
   "cell_type": "markdown",
   "metadata": {},
   "source": [
    "### 1 - Build the logistic regression"
   ]
  },
  {
   "cell_type": "code",
   "execution_count": 7,
   "metadata": {},
   "outputs": [
    {
     "name": "stdout",
     "output_type": "stream",
     "text": [
      "{'l1_ratio': 0.3, 'alpha': 0.001} 0.9174713531608085\n"
     ]
    }
   ],
   "source": [
    "estimator = SGDClassifier(loss = 'log', penalty = 'elasticnet', random_state = 42)\n",
    "param_grid = {'l1_ratio':[0,0.15,0.3,0.6,0.8,1],'alpha':[0.0001,0.001,0.01]}\n",
    "\n",
    "clf = RandomizedSearchCV(estimator = estimator,param_distributions=param_grid,n_iter=5, cv=3)\n",
    "\n",
    "clf.fit(X_train, Y_train)\n",
    "\n",
    "best_model_LR, best_params_LR, best_score_LR = clf.best_estimator_, clf.best_params_, clf.best_score_\n",
    "\n",
    "print(best_params_LR, best_score_LR)"
   ]
  },
  {
   "cell_type": "markdown",
   "metadata": {},
   "source": [
    "### 2 - Build the Random Forest Classifier"
   ]
  },
  {
   "cell_type": "code",
   "execution_count": 3,
   "metadata": {},
   "outputs": [
    {
     "name": "stdout",
     "output_type": "stream",
     "text": [
      "{'n_estimators': 200, 'criterion': 'entropy'} 0.9094888631389211\n"
     ]
    }
   ],
   "source": [
    "estimator = RandomForestClassifier(random_state = 42)\n",
    "param_grid = {'n_estimators':[100,150,200],'criterion':['gini','entropy']}\n",
    "\n",
    "clf = RandomizedSearchCV(estimator= estimator,param_distributions = param_grid, n_iter = 5, cv=3)\n",
    "\n",
    "clf.fit(X_train, Y_train)\n",
    "\n",
    "best_model_RF, best_params_RF, best_score_RF = clf.best_estimator_, clf.best_params_, clf.best_score_\n",
    "\n",
    "print(best_params_RF, best_score_RF)"
   ]
  },
  {
   "cell_type": "markdown",
   "metadata": {},
   "source": [
    "### 3 - Build the XGBClassifier"
   ]
  },
  {
   "cell_type": "code",
   "execution_count": 14,
   "metadata": {},
   "outputs": [
    {
     "name": "stdout",
     "output_type": "stream",
     "text": [
      "{'n_estimators': 250, 'max_depth': 5, 'learning_rate': 0.05, 'colsample_bylevel': 0.8} 0.9026651216685979\n"
     ]
    }
   ],
   "source": [
    "estimator = XGBClassifier(random_state = 42)\n",
    "param_grid = {'max_depth':[3,4,5,7], 'n_estimators':[100,150,200,250],'colsample_bylevel':[0.7,0.8,0.9,1],\n",
    "              'learning_rate':[0.01,0.03,0.05,0.1]}\n",
    "\n",
    "clf = RandomizedSearchCV(estimator = estimator, param_distributions = param_grid,n_iter=5, cv=3)\n",
    "\n",
    "clf.fit(X_train, Y_train)\n",
    "\n",
    "best_model_XG, best_params_XG, best_score_XG = clf.best_estimator_, clf.best_params_, clf.best_score_\n",
    "\n",
    "print(best_params_XG,best_score_XG)"
   ]
  },
  {
   "cell_type": "markdown",
   "metadata": {},
   "source": [
    "## Evaluation of the models"
   ]
  },
  {
   "cell_type": "markdown",
   "metadata": {},
   "source": [
    "We need to one-hot-encode the labels in order to use the multilabel classification metrics : \n",
    "\n",
    "- The Label ranking average precision (LRAP) averages over the samples the answer to the following question: for each ground truth label, what fraction of higher-ranked labels were true labels? This performance measure will be higher if you are able to give better rank to the labels associated with each sample. The obtained score is always strictly greater than 0, and the best value is 1. If there is exactly one relevant label per sample, label ranking average precision is equivalent to the mean reciprocal rank."
   ]
  },
  {
   "cell_type": "code",
   "execution_count": 15,
   "metadata": {},
   "outputs": [],
   "source": [
    "def one_hot_encode_array(array, nb_labels):\n",
    "    n = len(array)\n",
    "    output = np.zeros((n, nb_labels))\n",
    "    for idx in range(n):\n",
    "        output[idx, int(array[idx])-1] = 1\n",
    "    return output"
   ]
  },
  {
   "cell_type": "code",
   "execution_count": 16,
   "metadata": {},
   "outputs": [
    {
     "name": "stdout",
     "output_type": "stream",
     "text": [
      "Label ranking for train using LR 0.973917428436545\n",
      "Label ranking for test using LR 0.938541007800971\n",
      "Label ranking for train using RF 1.0\n",
      "Label ranking for test using RF 0.9220166561248169\n",
      "Label ranking for train using XG 1.0\n",
      "Label ranking for test using XG 0.9249156651908077\n"
     ]
    }
   ],
   "source": [
    "Y_train_hot = one_hot_encode_array(Y_train, 12)\n",
    "Y_test_hot = one_hot_encode_array(Y_test, 12)\n",
    "\n",
    "pred_train_LR = best_model_LR.predict(X_train)\n",
    "pred_test_LR = best_model_LR.predict(X_test)\n",
    "\n",
    "pred_train_RF = best_model_RF.predict(X_train)\n",
    "pred_test_RF = best_model_RF.predict(X_test)\n",
    "\n",
    "pred_train_XG = best_model_XG.predict(X_train)\n",
    "pred_test_XG = best_model_XG.predict(X_test)\n",
    "\n",
    "pred_train_LR_hot = one_hot_encode_array(pred_train_LR, 12)\n",
    "pred_test_LR_hot = one_hot_encode_array(pred_test_LR, 12)\n",
    "\n",
    "pred_train_RF_hot = one_hot_encode_array(pred_train_RF, 12)\n",
    "pred_test_RF_hot = one_hot_encode_array(pred_test_RF, 12)\n",
    "\n",
    "pred_train_XG_hot = one_hot_encode_array(pred_train_XG, 12)\n",
    "pred_test_XG_hot = one_hot_encode_array(pred_test_XG, 12)\n",
    "\n",
    "\n",
    "print(\"Label ranking for train using LR\", label_ranking_average_precision_score(Y_train_hot, pred_train_LR_hot))\n",
    "print(\"Label ranking for test using LR\", label_ranking_average_precision_score(Y_test_hot, pred_test_LR_hot))\n",
    "\n",
    "print(\"Label ranking for train using RF\", label_ranking_average_precision_score(Y_train_hot, pred_train_RF_hot))\n",
    "print(\"Label ranking for test using RF\", label_ranking_average_precision_score(Y_test_hot, pred_test_RF_hot))\n",
    "\n",
    "print(\"Label ranking for train using XG\", label_ranking_average_precision_score(Y_train_hot, pred_train_XG_hot))\n",
    "print(\"Label ranking for test using XG\", label_ranking_average_precision_score(Y_test_hot, pred_test_XG_hot))"
   ]
  },
  {
   "cell_type": "markdown",
   "metadata": {},
   "source": [
    "## Standardisation des variables predictives"
   ]
  },
  {
   "cell_type": "code",
   "execution_count": 17,
   "metadata": {},
   "outputs": [],
   "source": [
    "def standardise(array):\n",
    "    return (array - np.mean(array, axis=0)) / np.std(array, axis=0)\n",
    "\n",
    "X_train_standard = standardise(X_train)\n",
    "X_test_standard = standardise(X_test)"
   ]
  },
  {
   "cell_type": "code",
   "execution_count": 18,
   "metadata": {},
   "outputs": [
    {
     "name": "stdout",
     "output_type": "stream",
     "text": [
      "{'l1_ratio': 0.3, 'alpha': 0.001} 0.9125788592764259\n",
      "{'n_estimators': 200, 'criterion': 'entropy'} 0.9093601132998583\n",
      "{'n_estimators': 120, 'max_depth': 5, 'learning_rate': 0.05, 'colsample_bylevel': 1} 0.8958413801982748\n"
     ]
    }
   ],
   "source": [
    "#SGD\n",
    "\n",
    "estimator = SGDClassifier(loss = 'log', penalty = 'elasticnet', random_state = 42)\n",
    "param_grid = {'l1_ratio':[0,0.15,0.3,0.6,0.8,1],'alpha':[0.0001,0.001,0.01]}\n",
    "\n",
    "clf = RandomizedSearchCV(estimator = estimator,param_distributions=param_grid,n_iter=5, cv=3)\n",
    "\n",
    "clf.fit(X_train_standard, Y_train)\n",
    "\n",
    "best_model_LR_std, best_params_LR_std, best_score_LR_std = clf.best_estimator_, clf.best_params_, clf.best_score_\n",
    "\n",
    "print(best_params_LR_std, best_score_LR_std)\n",
    "\n",
    "#RF\n",
    "\n",
    "estimator = RandomForestClassifier(random_state = 42)\n",
    "param_grid = {'n_estimators':[100,150,200],'criterion':['gini','entropy']}\n",
    "\n",
    "clf = RandomizedSearchCV(estimator= estimator,param_distributions = param_grid, n_iter = 5, cv=3)\n",
    "\n",
    "clf.fit(X_train_standard, Y_train)\n",
    "\n",
    "best_model_RF_std, best_params_RF_std, best_score_RF_std = clf.best_estimator_, clf.best_params_, clf.best_score_\n",
    "\n",
    "print(best_params_RF_std, best_score_RF_std)\n",
    "\n",
    "#XG\n",
    "\n",
    "estimator = XGBClassifier(random_state = 42)\n",
    "param_grid = {'max_depth':[3,4,5,7], 'n_estimators':[100,120,150],'colsample_bylevel':[0.7,0.8,0.9,1],\n",
    "              'learning_rate':[0.01,0.03,0.05,0.1]}\n",
    "\n",
    "clf = RandomizedSearchCV(estimator = estimator, param_distributions = param_grid,n_iter=2, cv=3)\n",
    "\n",
    "clf.fit(X_train_standard, Y_train)\n",
    "\n",
    "best_model_XG_std, best_params_XG_std, best_score_XG_std = clf.best_estimator_, clf.best_params_, clf.best_score_\n",
    "\n",
    "print(best_params_XG_std,best_score_XG_std)"
   ]
  },
  {
   "cell_type": "code",
   "execution_count": 19,
   "metadata": {},
   "outputs": [
    {
     "name": "stdout",
     "output_type": "stream",
     "text": [
      "Label ranking for train using LR 0.9753336766662349\n",
      "Label ranking for test using LR 0.9272348724436014\n",
      "Label ranking for train using RF 1.0\n",
      "Label ranking for test using RF 0.9144792325532388\n",
      "Label ranking for train using XG 1.0\n",
      "Label ranking for test using XG 0.9179580434324285\n"
     ]
    }
   ],
   "source": [
    "pred_train_LR_std = best_model_LR_std.predict(X_train_standard)\n",
    "pred_test_LR_std = best_model_LR_std.predict(X_test_standard)\n",
    "\n",
    "pred_train_RF_std = best_model_RF_std.predict(X_train_standard)\n",
    "pred_test_RF_std = best_model_RF_std.predict(X_test_standard)\n",
    "\n",
    "pred_train_XG_std = best_model_XG_std.predict(X_train_standard)\n",
    "pred_test_XG_std = best_model_XG_std.predict(X_test_standard)\n",
    "\n",
    "pred_train_LR_std_hot = one_hot_encode_array(pred_train_LR_std, 12)\n",
    "pred_test_LR_std_hot = one_hot_encode_array(pred_test_LR_std, 12)\n",
    "\n",
    "pred_train_RF_std_hot = one_hot_encode_array(pred_train_RF_std, 12)\n",
    "pred_test_RF_std_hot = one_hot_encode_array(pred_test_RF_std, 12)\n",
    "\n",
    "pred_train_XG_std_hot = one_hot_encode_array(pred_train_XG_std, 12)\n",
    "pred_test_XG_std_hot = one_hot_encode_array(pred_test_XG_std, 12)\n",
    "\n",
    "\n",
    "print(\"Label ranking for train using LR\", label_ranking_average_precision_score(Y_train_hot, pred_train_LR_std_hot))\n",
    "print(\"Label ranking for test using LR\", label_ranking_average_precision_score(Y_test_hot, pred_test_LR_std_hot))\n",
    "\n",
    "print(\"Label ranking for train using RF\", label_ranking_average_precision_score(Y_train_hot, pred_train_RF_std_hot))\n",
    "print(\"Label ranking for test using RF\", label_ranking_average_precision_score(Y_test_hot, pred_test_RF_std_hot))\n",
    "\n",
    "print(\"Label ranking for train using XG\", label_ranking_average_precision_score(Y_train_hot, pred_train_XG_std_hot))\n",
    "print(\"Label ranking for test using XG\", label_ranking_average_precision_score(Y_test_hot, pred_test_XG_std_hot))"
   ]
  },
  {
   "cell_type": "markdown",
   "metadata": {},
   "source": [
    "## Reduction de la dimension"
   ]
  },
  {
   "cell_type": "code",
   "execution_count": 20,
   "metadata": {},
   "outputs": [],
   "source": [
    "from sklearn.decomposition import PCA\n",
    "\n",
    "pca = PCA(n_components=20)\n",
    "\n",
    "pca.fit(X_train_standard)\n",
    "\n",
    "X_train_pca = pca.transform(X_train_standard)\n",
    "X_test_pca = pca.transform(X_test_standard)"
   ]
  },
  {
   "cell_type": "code",
   "execution_count": 21,
   "metadata": {},
   "outputs": [
    {
     "name": "stdout",
     "output_type": "stream",
     "text": [
      "{'l1_ratio': 0.6, 'alpha': 0.0001} 0.8424101969872537\n",
      "{'n_estimators': 150, 'criterion': 'gini'} 0.8179477275653405\n",
      "{'n_estimators': 250, 'max_depth': 4, 'learning_rate': 0.05, 'colsample_bylevel': 1} 0.8227114716106605\n"
     ]
    }
   ],
   "source": [
    "#SGD\n",
    "\n",
    "estimator = SGDClassifier(loss = 'log', penalty = 'elasticnet', random_state = 42)\n",
    "param_grid = {'l1_ratio':[0,0.15,0.3,0.6,0.8,1],'alpha':[0.0001,0.001,0.01]}\n",
    "\n",
    "clf = RandomizedSearchCV(estimator = estimator,param_distributions=param_grid,n_iter=5, cv=3)\n",
    "\n",
    "clf.fit(X_train_pca, Y_train)\n",
    "\n",
    "best_model_LR_pca, best_params_LR_pca, best_score_LR_pca = clf.best_estimator_, clf.best_params_, clf.best_score_\n",
    "\n",
    "print(best_params_LR_pca, best_score_LR_pca)\n",
    "\n",
    "#RF\n",
    "\n",
    "estimator = RandomForestClassifier(random_state = 42)\n",
    "param_grid = {'n_estimators':[100,150,200],'criterion':['gini','entropy']}\n",
    "\n",
    "clf = RandomizedSearchCV(estimator= estimator,param_distributions = param_grid, n_iter = 5, cv=3)\n",
    "\n",
    "clf.fit(X_train_pca, Y_train)\n",
    "\n",
    "best_model_RF_pca, best_params_RF_pca, best_score_RF_pca = clf.best_estimator_, clf.best_params_, clf.best_score_\n",
    "\n",
    "print(best_params_RF_pca, best_score_RF_pca)\n",
    "\n",
    "#XG\n",
    "\n",
    "estimator = XGBClassifier(random_state = 42)\n",
    "param_grid = {'max_depth':[3,4,5,7], 'n_estimators':[100,150,200,250],'colsample_bylevel':[0.7,0.8,0.9,1],\n",
    "              'learning_rate':[0.01,0.03,0.05,0.1]}\n",
    "\n",
    "clf = RandomizedSearchCV(estimator = estimator, param_distributions = param_grid,n_iter=5, cv=3)\n",
    "\n",
    "clf.fit(X_train_pca, Y_train)\n",
    "\n",
    "best_model_XG_pca, best_params_XG_pca, best_score_XG_pca = clf.best_estimator_, clf.best_params_, clf.best_score_\n",
    "\n",
    "print(best_params_XG_pca,best_score_XG_pca)"
   ]
  },
  {
   "cell_type": "code",
   "execution_count": 22,
   "metadata": {},
   "outputs": [
    {
     "name": "stdout",
     "output_type": "stream",
     "text": [
      "Label ranking for train using LR 0.8911849276855013\n",
      "Label ranking for test using LR 0.8651960784313745\n",
      "Label ranking for train using RF 1.0\n",
      "Label ranking for test using RF 0.8515707358212139\n",
      "Label ranking for train using XG 0.9759237800952725\n",
      "Label ranking for test using XG 0.8579485557663964\n"
     ]
    }
   ],
   "source": [
    "pred_train_LR_pca = best_model_LR_pca.predict(X_train_pca)\n",
    "pred_test_LR_pca = best_model_LR_pca.predict(X_test_pca)\n",
    "\n",
    "pred_train_RF_pca = best_model_RF_pca.predict(X_train_pca)\n",
    "pred_test_RF_pca = best_model_RF_pca.predict(X_test_pca)\n",
    "\n",
    "pred_train_XG_pca = best_model_XG_pca.predict(X_train_pca)\n",
    "pred_test_XG_pca = best_model_XG_pca.predict(X_test_pca)\n",
    "\n",
    "pred_train_LR_pca_hot = one_hot_encode_array(pred_train_LR_pca, 12)\n",
    "pred_test_LR_pca_hot = one_hot_encode_array(pred_test_LR_pca, 12)\n",
    "\n",
    "pred_train_RF_pca_hot = one_hot_encode_array(pred_train_RF_pca, 12)\n",
    "pred_test_RF_pca_hot = one_hot_encode_array(pred_test_RF_pca, 12)\n",
    "\n",
    "pred_train_XG_pca_hot = one_hot_encode_array(pred_train_XG_pca, 12)\n",
    "pred_test_XG_pca_hot = one_hot_encode_array(pred_test_XG_pca, 12)\n",
    "\n",
    "\n",
    "print(\"Label ranking for train using LR\", label_ranking_average_precision_score(Y_train_hot, pred_train_LR_pca_hot))\n",
    "print(\"Label ranking for test using LR\", label_ranking_average_precision_score(Y_test_hot, pred_test_LR_pca_hot))\n",
    "\n",
    "print(\"Label ranking for train using RF\", label_ranking_average_precision_score(Y_train_hot, pred_train_RF_pca_hot))\n",
    "print(\"Label ranking for test using RF\", label_ranking_average_precision_score(Y_test_hot, pred_test_RF_pca_hot))\n",
    "\n",
    "print(\"Label ranking for train using XG\", label_ranking_average_precision_score(Y_train_hot, pred_train_XG_pca_hot))\n",
    "print(\"Label ranking for test using XG\", label_ranking_average_precision_score(Y_test_hot, pred_test_XG_pca_hot))"
   ]
  },
  {
   "cell_type": "markdown",
   "metadata": {},
   "source": [
    "## Choix du meilleur modele"
   ]
  },
  {
   "cell_type": "markdown",
   "metadata": {},
   "source": [
    "Le meilleur modele est : la logistique regression appliquee sur les donnees sans standardisation ni reduction de la dimension."
   ]
  },
  {
   "cell_type": "markdown",
   "metadata": {},
   "source": [
    "## API Django"
   ]
  },
  {
   "cell_type": "code",
   "execution_count": null,
   "metadata": {},
   "outputs": [],
   "source": []
  }
 ],
 "metadata": {
  "kernelspec": {
   "display_name": "Python 3",
   "language": "python",
   "name": "python3"
  },
  "language_info": {
   "codemirror_mode": {
    "name": "ipython",
    "version": 3
   },
   "file_extension": ".py",
   "mimetype": "text/x-python",
   "name": "python",
   "nbconvert_exporter": "python",
   "pygments_lexer": "ipython3",
   "version": "3.7.3"
  }
 },
 "nbformat": 4,
 "nbformat_minor": 2
}
